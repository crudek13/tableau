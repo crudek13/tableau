{
 "cells": [
  {
   "cell_type": "code",
   "execution_count": 1,
   "metadata": {},
   "outputs": [],
   "source": [
    "# import libraries\n",
    "from tableau_api_lib import TableauServerConnection\n",
    "from tableau_api_lib.utils import querying, flatten_dict_column\n",
    "from urllib import parse\n",
    "import pandas as pd\n",
    "import io\n",
    "import os\n",
    "from datetime import date  "
   ]
  },
  {
   "cell_type": "code",
   "execution_count": null,
   "metadata": {},
   "outputs": [],
   "source": [
    "# define server configuration\n",
    "config = {\n",
    "    'tableau_prod' : {\n",
    "        'server': '', #https://xxx.online.tableau.com\n",
    "        'api_version': '3.19', \n",
    "        #'username': '',\n",
    "        #'password':,\n",
    "        'personal_access_token_name': 'xxx', # name of token in Tableau site\n",
    "        'personal_access_token_secret': 'xxx', # from Tableau site user settings\n",
    "        'site_name': 'xxx', # site name and url sometimes the same\n",
    "        'site_url': 'xxx'\n",
    "    }\n",
    "}\n",
    "\n",
    "# create connection\n",
    "conn = TableauServerConnection(config_json=config, env='tableau_prod')\n",
    "\n",
    "#response = conn.sign_in() #response = 200 is good\n",
    "conn.sign_in()"
   ]
  },
  {
   "attachments": {},
   "cell_type": "markdown",
   "metadata": {},
   "source": [
    "Datasource ID's"
   ]
  },
  {
   "cell_type": "code",
   "execution_count": null,
   "metadata": {},
   "outputs": [],
   "source": [
    "##This section will give us datasource name and id infor \n",
    "# data source info\n",
    "datasource_df = querying.get_datasources_dataframe(conn)\n",
    "#print(datasource_df.head(25))\n",
    "#print(datasource_df.iloc[0])\n",
    "#print(datasource_df.name.unique())\n",
    "#datasource_df.dtypes\n",
    "\n",
    "#create data frame just with name and id\n",
    "ds_name_id = datasource_df[['name', 'id']]\n",
    "print(ds_name_id.sort_values(by=['name']))"
   ]
  },
  {
   "attachments": {},
   "cell_type": "markdown",
   "metadata": {},
   "source": [
    "Workbooks and Sheets"
   ]
  },
  {
   "cell_type": "code",
   "execution_count": null,
   "metadata": {},
   "outputs": [],
   "source": [
    "### Query server\n",
    "\n",
    "# list of all the views on server\n",
    "views_df = querying.get_views_dataframe(conn)\n",
    "views_df = flatten_dict_column(views_df, keys=[\"name\",\"id\"], col_name=\"workbook\")\n",
    "\n",
    "# workbook we are interested in\n",
    "comm_sales = views_df[views_df[\"workbook_name\"] == \"xxx\"] # filter to the workbook of interest\n",
    "\n",
    "dashboard_view_id = comm_sales[comm_sales['name'] == 'xxx']['id'].values[0] # actual dashboard\n",
    "filter_view_id = comm_sales[comm_sales['name'] == 'xxx']['id'].values[0] # sheet with list of values for filtering\n",
    "report_view_id = comm_sales[comm_sales['name'] == 'xxx']['id'].values[0] # raw data table for csv\n",
    "\n",
    "# data from sheet in Tableau workbook with the names of filter values\n",
    "filter_data = conn.query_view_data(view_id=filter_view_id)\n",
    "filter_df = pd.read_csv(io.StringIO(filter_data.content.decode('utf-8')))\n",
    "filter_list = list(filter_df['xxx']) # name of field used for filter"
   ]
  },
  {
   "cell_type": "code",
   "execution_count": null,
   "metadata": {},
   "outputs": [],
   "source": [
    "### Outside of loop - Params are very customizable\n",
    "\n",
    "# specify pdf params\n",
    "pdf_params = {\n",
    "    \"pdf_orientation\": \"orientation=Portrait\",\n",
    "    \"pdf_layout\": \"type=A4\",\n",
    "    \"filter\": None\n",
    "}\n",
    "# specify csv params\n",
    "csv_params = {\n",
    "    \"filter\": None\n",
    "}\n",
    "\n",
    "#folder paths\n",
    "path = 'xxx' # wherever you want to land the files"
   ]
  },
  {
   "cell_type": "code",
   "execution_count": null,
   "metadata": {},
   "outputs": [],
   "source": [
    "### PDF and CSV generation loop\n",
    "\n",
    "# global\n",
    "for i in filter_list:\n",
    "    date = date.today()\n",
    "\n",
    "### PDF portion\n",
    "    pdf_params['filter'] = f'vf_xxx={parse.quote(i)}' # xxx = name of field used for filter\n",
    "    pdf = conn.query_view_pdf(view_id=dashboard_view_id, parameter_dict=pdf_params)\n",
    "    pdf_new = open(os.path.join(path,f'{i}.pdf'), 'wb')\n",
    "    pdf_new.write(pdf.content)    \n",
    "\n",
    "### CSV Portion\n",
    "    csv_params['filter'] = f'vf_xxx={parse.quote(i)}' # xxx = name of field used for filter\n",
    "    report_data = conn.query_view_data(view_id=report_view_id, parameter_dict=csv_params)\n",
    "    report_df = pd.read_csv(io.StringIO(report_data.content.decode('utf-8')))\n",
    "    # prep data\n",
    "    report_data_clean = pd.merge(\n",
    "        report_df.pivot(index = 'Row', columns = 'Measure Names', values = 'Measure Values'),\n",
    "        report_df.drop(columns = ['Measure Names', 'Measure Values']).drop_duplicates(),\n",
    "        on = 'Row').drop(columns = ['xxx', 'xxx']) # whatever fields you want to remove\n",
    "    cols = ['xxx', 'xxx', 'xxx'] # reorder fields\n",
    "    report_data_clean = report_data_clean[cols]\n",
    "    # create to csv\n",
    "    report_data_clean.to_csv(os.path.join(path,f'{i}.csv'))"
   ]
  }
 ],
 "metadata": {
  "kernelspec": {
   "display_name": "base",
   "language": "python",
   "name": "python3"
  },
  "language_info": {
   "codemirror_mode": {
    "name": "ipython",
    "version": 3
   },
   "file_extension": ".py",
   "mimetype": "text/x-python",
   "name": "python",
   "nbconvert_exporter": "python",
   "pygments_lexer": "ipython3",
   "version": "3.9.13"
  },
  "orig_nbformat": 4
 },
 "nbformat": 4,
 "nbformat_minor": 2
}
